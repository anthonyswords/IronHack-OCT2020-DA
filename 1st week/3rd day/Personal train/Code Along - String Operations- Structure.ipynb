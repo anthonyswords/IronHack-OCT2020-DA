{
 "cells": [
  {
   "cell_type": "markdown",
   "metadata": {},
   "source": [
    "# String operations"
   ]
  },
  {
   "cell_type": "markdown",
   "metadata": {},
   "source": [
    "Clean students' names"
   ]
  },
  {
   "cell_type": "code",
   "execution_count": 1,
   "metadata": {},
   "outputs": [],
   "source": [
    "students = [\"Aine_Gates\",\n",
    "            \"Àlex_Gómez\",\n",
    "            \"André_SantaClara\",\n",
    "            \"Anne_Fonte\",\n",
    "            \"Arnau_Angerri\",\n",
    "            \"Carla_Feriche\",\n",
    "            \"Daria_Gavrilova\",\n",
    "            \"Dirk_Gruhne\",\n",
    "            \"Erik_Termes\",\n",
    "            \"Filipe_Santos\",\n",
    "            \"Hugo_Mellado\",\n",
    "            \"Jorge_Gonzalez\",\n",
    "            \"Marc_Sarrau\",\n",
    "            \"Maria_González\",\n",
    "            \"Miguel_Chacon\",\n",
    "            \"Miguel_Simón\",\n",
    "            \"Nick_Deitmers\",\n",
    "            \"Oscar_Tomás\",\n",
    "            \"Pau_Sancho\",\n",
    "            \"Pol_Serramalera\",\n",
    "            \"Raúl_Castrillo\",\n",
    "            \"Réka_Varga\",\n",
    "            \"Sara_Peña\",\n",
    "            \"Sergio_Monge\",\n",
    "            \"Toni_Espadas\",\n",
    "            \"Víctor_López\",\n",
    "            \"Yidi_Chi\"]"
   ]
  },
  {
   "cell_type": "code",
   "execution_count": 2,
   "metadata": {},
   "outputs": [],
   "source": [
    "def clean_names(x):\n",
    "    list_clean = [value.replace(\"_\",\" \") for value in x]\n",
    "    return list_clean"
   ]
  },
  {
   "cell_type": "code",
   "execution_count": 4,
   "metadata": {},
   "outputs": [
    {
     "data": {
      "text/plain": [
       "['Aine Gates',\n",
       " 'Àlex Gómez',\n",
       " 'André SantaClara',\n",
       " 'Anne Fonte',\n",
       " 'Arnau Angerri',\n",
       " 'Carla Feriche',\n",
       " 'Daria Gavrilova',\n",
       " 'Dirk Gruhne',\n",
       " 'Erik Termes',\n",
       " 'Filipe Santos',\n",
       " 'Hugo Mellado',\n",
       " 'Jorge Gonzalez',\n",
       " 'Marc Sarrau',\n",
       " 'Maria González',\n",
       " 'Miguel Chacon',\n",
       " 'Miguel Simón',\n",
       " 'Nick Deitmers',\n",
       " 'Oscar Tomás',\n",
       " 'Pau Sancho',\n",
       " 'Pol Serramalera',\n",
       " 'Raúl Castrillo',\n",
       " 'Réka Varga',\n",
       " 'Sara Peña',\n",
       " 'Sergio Monge',\n",
       " 'Toni Espadas',\n",
       " 'Víctor López',\n",
       " 'Yidi Chi']"
      ]
     },
     "execution_count": 4,
     "metadata": {},
     "output_type": "execute_result"
    }
   ],
   "source": [
    "clean_names(students)"
   ]
  },
  {
   "cell_type": "markdown",
   "metadata": {},
   "source": [
    "Detect colors in sentences:"
   ]
  },
  {
   "cell_type": "code",
   "execution_count": 7,
   "metadata": {},
   "outputs": [],
   "source": [
    "colors = [\"red\", \"blue\", \"green\", \"orange\", \"yellow\", \"black\", \"purple\", \"white\", \"brown\", \"gray\", \"pink\"]\n",
    "\n",
    "sentences = [\"My jacket is green\", \"I like red apples\", \"We are all in a yellow submarine\", \"Black lives matter\",\n",
    "             \"I'm blue da ba dee da ba daa\", \"Purple rain\", \"Coral is far more red than her lips' red\"]"
   ]
  },
  {
   "cell_type": "code",
   "execution_count": null,
   "metadata": {
    "scrolled": true
   },
   "outputs": [],
   "source": [
    "def color_detected(color,sentence):\n",
    "    list_color_detected = []\n",
    "    for sent in sentence:\n",
    "        for value in color:\n",
    "            if value in sent.lower():\n",
    "                list_color_detected.append(value)\n",
    "    print(list_color_detected)\n",
    "color_detected(colors,sentences)"
   ]
  },
  {
   "cell_type": "markdown",
   "metadata": {},
   "source": [
    "Have you detected \"Black\"?"
   ]
  },
  {
   "cell_type": "code",
   "execution_count": null,
   "metadata": {},
   "outputs": [],
   "source": [
    "#Yes"
   ]
  },
  {
   "cell_type": "markdown",
   "metadata": {},
   "source": [
    "Make it a function:"
   ]
  },
  {
   "cell_type": "code",
   "execution_count": null,
   "metadata": {},
   "outputs": [],
   "source": []
  },
  {
   "cell_type": "code",
   "execution_count": null,
   "metadata": {},
   "outputs": [],
   "source": [
    "color_detector(colors, sentences)"
   ]
  },
  {
   "cell_type": "markdown",
   "metadata": {},
   "source": [
    "Replace the color for another color, picked at random:"
   ]
  },
  {
   "cell_type": "code",
   "execution_count": 21,
   "metadata": {},
   "outputs": [
    {
     "name": "stdout",
     "output_type": "stream",
     "text": [
      "['blue', 'black', 'brown', 'purple', 'black', 'black', 'white', 'white', 'pink', 'red', 'yellow']\n"
     ]
    }
   ],
   "source": [
    "import random\n",
    "lol = []\n",
    "for i in range(len(colors)):\n",
    "    lol.append(colors[random.randrange(len(colors))])\n",
    "print(lol)"
   ]
  }
 ],
 "metadata": {
  "kernelspec": {
   "display_name": "Python 3",
   "language": "python",
   "name": "python3"
  },
  "language_info": {
   "codemirror_mode": {
    "name": "ipython",
    "version": 3
   },
   "file_extension": ".py",
   "mimetype": "text/x-python",
   "name": "python",
   "nbconvert_exporter": "python",
   "pygments_lexer": "ipython3",
   "version": "3.7.1"
  }
 },
 "nbformat": 4,
 "nbformat_minor": 4
}
